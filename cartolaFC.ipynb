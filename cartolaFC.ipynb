{
 "cells": [
  {
   "cell_type": "code",
   "execution_count": 1,
   "metadata": {},
   "outputs": [],
   "source": [
    "import cartolafc\n",
    "import pprint\n",
    "import json\n",
    "import pandas as pd\n",
    "import matplotlib.pyplot as plt"
   ]
  },
  {
   "cell_type": "code",
   "execution_count": 2,
   "metadata": {},
   "outputs": [],
   "source": [
    "# Criando um objeto para trabalhar\n",
    "# Logando para acessar todas as funcionalidades\n",
    "api = cartolafc.Api()\n",
    "login = api.set_credentials('robson.s.macedo@gmail.com', 'bradesco11')"
   ]
  },
  {
   "cell_type": "code",
   "execution_count": 10,
   "metadata": {},
   "outputs": [],
   "source": [
    "# extraindo dados dos clubes\n",
    "# extraindo dados das partidas\n",
    "# extraindo dados dos atletas\n",
    "# trazendo meus dados para comprar de acordo com a minha realidade\n",
    "# Armazenando os dados das pontuacoes dos atletas em uma lista\n",
    "clubes = api.clubes()\n",
    "partidas = [api.partidas(i) for i in range(1, 25)]\n",
    "atletas = api.mercado_atletas()\n",
    "meusDados = api.time_logado() \n",
    "IdsAtletas = [x.id for x in atletas]\n",
    "pontuacoesAtletas = [api.pontuacao_atleta(i) for i in IdsAtletas]"
   ]
  },
  {
   "cell_type": "code",
   "execution_count": 11,
   "metadata": {},
   "outputs": [
    {
     "data": {
      "text/plain": [
       "101728"
      ]
     },
     "execution_count": 11,
     "metadata": {},
     "output_type": "execute_result"
    }
   ],
   "source": [
    "atletas[0].id"
   ]
  },
  {
   "cell_type": "code",
   "execution_count": 12,
   "metadata": {},
   "outputs": [
    {
     "data": {
      "text/plain": [
       "[{\"atleta_id\": 37246, \"rodada_id\": 12, \"pontos\": 0, \"preco\": 8.58, \"variacao\": 0, \"media\": 3.28},\n",
       " {\"atleta_id\": 37246, \"rodada_id\": 13, \"pontos\": 0, \"preco\": 8.58, \"variacao\": 0, \"media\": 3.28},\n",
       " {\"atleta_id\": 37246, \"rodada_id\": 14, \"pontos\": 2.55, \"preco\": 8.63, \"variacao\": 0.05, \"media\": 3.22},\n",
       " {\"atleta_id\": 37246, \"rodada_id\": 15, \"pontos\": 3.04, \"preco\": 8.75, \"variacao\": 0.12, \"media\": 3.21},\n",
       " {\"atleta_id\": 37246, \"rodada_id\": 16, \"pontos\": 3.73, \"preco\": 8.86, \"variacao\": 0.11, \"media\": 3.25},\n",
       " {\"atleta_id\": 37246, \"rodada_id\": 17, \"pontos\": 0.51, \"preco\": 8.31, \"variacao\": -0.55, \"media\": 3.07},\n",
       " {\"atleta_id\": 37246, \"rodada_id\": 18, \"pontos\": 3.07, \"preco\": 8.72, \"variacao\": 0.41, \"media\": 3.07},\n",
       " {\"atleta_id\": 37246, \"rodada_id\": 19, \"pontos\": 4.14, \"preco\": 8.92, \"variacao\": 0.2, \"media\": 3.13},\n",
       " {\"atleta_id\": 37246, \"rodada_id\": 20, \"pontos\": 6.15, \"preco\": 9.32, \"variacao\": 0.4, \"media\": 3.3},\n",
       " {\"atleta_id\": 37246, \"rodada_id\": 21, \"pontos\": 5.84, \"preco\": 9.44, \"variacao\": 0.12, \"media\": 3.43},\n",
       " {\"atleta_id\": 37246, \"rodada_id\": 22, \"pontos\": 5.15, \"preco\": 9.52, \"variacao\": 0.08, \"media\": 3.52},\n",
       " {\"atleta_id\": 37246, \"rodada_id\": 23, \"pontos\": 6.35, \"preco\": 9.81, \"variacao\": 0.29, \"media\": 3.65}]"
      ]
     },
     "execution_count": 12,
     "metadata": {},
     "output_type": "execute_result"
    }
   ],
   "source": [
    "api.pontuacao_atleta(37246)"
   ]
  },
  {
   "cell_type": "code",
   "execution_count": 13,
   "metadata": {},
   "outputs": [],
   "source": [
    "# montar dicionario para facilitar montagem do Dataframe de PONTUACOES\n",
    "atleta_id = list()\n",
    "rodada_id  =list()\n",
    "pontos = list()\n",
    "preco = list()\n",
    "variacao = list()\n",
    "media = list()\n",
    "for i in pontuacoesAtletas:\n",
    "    for j in i:\n",
    "        atleta_id.append(j.atleta_id)\n",
    "        rodada_id.append(j.rodada_id)\n",
    "        pontos.append(j.pontos)\n",
    "        preco.append(j.preco)\n",
    "        variacao.append(j.variacao)\n",
    "        media.append(j.media)\n",
    "        \n",
    "pontuacoesAtletas_dict = {}\n",
    "pontuacoesAtletas_dict['atleta_id'] = atleta_id\n",
    "pontuacoesAtletas_dict['rodada_id'] = rodada_id\n",
    "pontuacoesAtletas_dict['pontos'] = pontos\n",
    "pontuacoesAtletas_dict['preco'] = preco\n",
    "pontuacoesAtletas_dict['variacao'] = variacao\n",
    "pontuacoesAtletas_dict['media'] = media\n",
    "\n",
    "# Montando o DF para as pontuações dos atletas\n",
    "pontuacoesAtletas_df = pd.DataFrame(pontuacoesAtletas_dict)\n"
   ]
  },
  {
   "cell_type": "code",
   "execution_count": 14,
   "metadata": {},
   "outputs": [
    {
     "data": {
      "text/plain": [
       "12.023333333333332"
      ]
     },
     "execution_count": 14,
     "metadata": {},
     "output_type": "execute_result"
    }
   ],
   "source": [
    "# testes até nas proximas 4linhas\n",
    "pontuacoesAtletas_df.groupby('atleta_id')['media'].mean().max()"
   ]
  },
  {
   "cell_type": "code",
   "execution_count": 15,
   "metadata": {},
   "outputs": [
    {
     "data": {
      "text/html": [
       "<div>\n",
       "<style scoped>\n",
       "    .dataframe tbody tr th:only-of-type {\n",
       "        vertical-align: middle;\n",
       "    }\n",
       "\n",
       "    .dataframe tbody tr th {\n",
       "        vertical-align: top;\n",
       "    }\n",
       "\n",
       "    .dataframe thead th {\n",
       "        text-align: right;\n",
       "    }\n",
       "</style>\n",
       "<table border=\"1\" class=\"dataframe\">\n",
       "  <thead>\n",
       "    <tr style=\"text-align: right;\">\n",
       "      <th></th>\n",
       "      <th>atleta_id</th>\n",
       "      <th>rodada_id</th>\n",
       "      <th>pontos</th>\n",
       "      <th>preco</th>\n",
       "      <th>variacao</th>\n",
       "      <th>media</th>\n",
       "    </tr>\n",
       "  </thead>\n",
       "  <tbody>\n",
       "    <tr>\n",
       "      <th>7065</th>\n",
       "      <td>87863</td>\n",
       "      <td>21</td>\n",
       "      <td>16.7</td>\n",
       "      <td>19.33</td>\n",
       "      <td>1.28</td>\n",
       "      <td>12.02</td>\n",
       "    </tr>\n",
       "  </tbody>\n",
       "</table>\n",
       "</div>"
      ],
      "text/plain": [
       "      atleta_id  rodada_id  pontos  preco  variacao  media\n",
       "7065      87863         21    16.7  19.33      1.28  12.02"
      ]
     },
     "execution_count": 15,
     "metadata": {},
     "output_type": "execute_result"
    }
   ],
   "source": [
    "pontuacoesAtletas_df[pontuacoesAtletas_df.media == 12.02]"
   ]
  },
  {
   "cell_type": "code",
   "execution_count": 16,
   "metadata": {},
   "outputs": [
    {
     "name": "stdout",
     "output_type": "stream",
     "text": [
      "Arrascaeta\n"
     ]
    }
   ],
   "source": [
    "for i in atletas:\n",
    "    if i.id == 87863:\n",
    "        print(i.apelido)"
   ]
  },
  {
   "cell_type": "code",
   "execution_count": 17,
   "metadata": {},
   "outputs": [
    {
     "data": {
      "text/html": [
       "<div>\n",
       "<style scoped>\n",
       "    .dataframe tbody tr th:only-of-type {\n",
       "        vertical-align: middle;\n",
       "    }\n",
       "\n",
       "    .dataframe tbody tr th {\n",
       "        vertical-align: top;\n",
       "    }\n",
       "\n",
       "    .dataframe thead th {\n",
       "        text-align: right;\n",
       "    }\n",
       "</style>\n",
       "<table border=\"1\" class=\"dataframe\">\n",
       "  <thead>\n",
       "    <tr style=\"text-align: right;\">\n",
       "      <th></th>\n",
       "      <th>atleta_id</th>\n",
       "      <th>rodada_id</th>\n",
       "      <th>pontos</th>\n",
       "      <th>preco</th>\n",
       "      <th>variacao</th>\n",
       "      <th>media</th>\n",
       "    </tr>\n",
       "  </thead>\n",
       "  <tbody>\n",
       "    <tr>\n",
       "      <th>0</th>\n",
       "      <td>101728</td>\n",
       "      <td>12</td>\n",
       "      <td>0.0</td>\n",
       "      <td>1.0</td>\n",
       "      <td>0.0</td>\n",
       "      <td>0.0</td>\n",
       "    </tr>\n",
       "    <tr>\n",
       "      <th>1</th>\n",
       "      <td>101728</td>\n",
       "      <td>13</td>\n",
       "      <td>0.0</td>\n",
       "      <td>1.0</td>\n",
       "      <td>0.0</td>\n",
       "      <td>0.0</td>\n",
       "    </tr>\n",
       "  </tbody>\n",
       "</table>\n",
       "</div>"
      ],
      "text/plain": [
       "   atleta_id  rodada_id  pontos  preco  variacao  media\n",
       "0     101728         12     0.0    1.0       0.0    0.0\n",
       "1     101728         13     0.0    1.0       0.0    0.0"
      ]
     },
     "execution_count": 17,
     "metadata": {},
     "output_type": "execute_result"
    }
   ],
   "source": [
    "pontuacoesAtletas_df.head(2)"
   ]
  },
  {
   "cell_type": "code",
   "execution_count": 18,
   "metadata": {},
   "outputs": [],
   "source": [
    "# preparando para criar o DF de dados dos ATLETAS\n",
    "ident = list()\n",
    "apelido = list()\n",
    "pontos = list()\n",
    "scout = list()\n",
    "posicao = list()\n",
    "clube = list()\n",
    "status = list()\n",
    "for i in atletas:\n",
    "    ident.append(i.id)\n",
    "    apelido.append(i.apelido)\n",
    "    pontos.append(i.pontos)\n",
    "    scout.append(i.scout)\n",
    "    posicao.append(i.posicao[2])\n",
    "    clube.append(i.clube.abreviacao)\n",
    "    status.append(i.status[1])\n",
    "    \n",
    "# Criando o dicionario\n",
    "atletas_dict = {}\n",
    "atletas_dict['id'] = ident\n",
    "atletas_dict['apelido'] = apelido\n",
    "atletas_dict['ult_pontuacao']  =pontos\n",
    "atletas_dict['scout'] = scout\n",
    "atletas_dict['posicao'] = posicao\n",
    "atletas_dict['clube'] = clube\n",
    "atletas_dict['status'] = status\n",
    "\n",
    "# Criando um DF para os atletas\n",
    "atletas_df = pd.DataFrame(atletas_dict)"
   ]
  },
  {
   "cell_type": "code",
   "execution_count": 21,
   "metadata": {},
   "outputs": [
    {
     "data": {
      "text/html": [
       "<div>\n",
       "<style scoped>\n",
       "    .dataframe tbody tr th:only-of-type {\n",
       "        vertical-align: middle;\n",
       "    }\n",
       "\n",
       "    .dataframe tbody tr th {\n",
       "        vertical-align: top;\n",
       "    }\n",
       "\n",
       "    .dataframe thead th {\n",
       "        text-align: right;\n",
       "    }\n",
       "</style>\n",
       "<table border=\"1\" class=\"dataframe\">\n",
       "  <thead>\n",
       "    <tr style=\"text-align: right;\">\n",
       "      <th></th>\n",
       "      <th>id</th>\n",
       "      <th>apelido</th>\n",
       "      <th>ult_pontuacao</th>\n",
       "      <th>scout</th>\n",
       "      <th>posicao</th>\n",
       "      <th>clube</th>\n",
       "      <th>status</th>\n",
       "    </tr>\n",
       "  </thead>\n",
       "  <tbody>\n",
       "    <tr>\n",
       "      <th>0</th>\n",
       "      <td>101728</td>\n",
       "      <td>Diego</td>\n",
       "      <td>0.0</td>\n",
       "      <td>{}</td>\n",
       "      <td>zag</td>\n",
       "      <td>SAO</td>\n",
       "      <td>Nulo</td>\n",
       "    </tr>\n",
       "    <tr>\n",
       "      <th>1</th>\n",
       "      <td>101729</td>\n",
       "      <td>Fabinho</td>\n",
       "      <td>0.0</td>\n",
       "      <td>{'FC': 1}</td>\n",
       "      <td>ata</td>\n",
       "      <td>SAO</td>\n",
       "      <td>Nulo</td>\n",
       "    </tr>\n",
       "    <tr>\n",
       "      <th>2</th>\n",
       "      <td>101720</td>\n",
       "      <td>Miranda</td>\n",
       "      <td>0.0</td>\n",
       "      <td>{'FC': 2, 'FS': 1, 'PE': 1, 'RB': 1}</td>\n",
       "      <td>zag</td>\n",
       "      <td>VAS</td>\n",
       "      <td>Nulo</td>\n",
       "    </tr>\n",
       "    <tr>\n",
       "      <th>3</th>\n",
       "      <td>101717</td>\n",
       "      <td>Marrony</td>\n",
       "      <td>1.8</td>\n",
       "      <td>{'A': 1, 'CA': 3, 'CV': 1, 'FC': 31, 'FD': 8, ...</td>\n",
       "      <td>ata</td>\n",
       "      <td>VAS</td>\n",
       "      <td>Suspenso</td>\n",
       "    </tr>\n",
       "    <tr>\n",
       "      <th>4</th>\n",
       "      <td>101837</td>\n",
       "      <td>Lucas Paes</td>\n",
       "      <td>0.0</td>\n",
       "      <td>{}</td>\n",
       "      <td>gol</td>\n",
       "      <td>SAO</td>\n",
       "      <td>Nulo</td>\n",
       "    </tr>\n",
       "  </tbody>\n",
       "</table>\n",
       "</div>"
      ],
      "text/plain": [
       "       id     apelido  ult_pontuacao  \\\n",
       "0  101728       Diego            0.0   \n",
       "1  101729     Fabinho            0.0   \n",
       "2  101720     Miranda            0.0   \n",
       "3  101717     Marrony            1.8   \n",
       "4  101837  Lucas Paes            0.0   \n",
       "\n",
       "                                               scout posicao clube    status  \n",
       "0                                                 {}     zag   SAO      Nulo  \n",
       "1                                          {'FC': 1}     ata   SAO      Nulo  \n",
       "2               {'FC': 2, 'FS': 1, 'PE': 1, 'RB': 1}     zag   VAS      Nulo  \n",
       "3  {'A': 1, 'CA': 3, 'CV': 1, 'FC': 31, 'FD': 8, ...     ata   VAS  Suspenso  \n",
       "4                                                 {}     gol   SAO      Nulo  "
      ]
     },
     "execution_count": 21,
     "metadata": {},
     "output_type": "execute_result"
    }
   ],
   "source": [
    "atletas_df.head()"
   ]
  },
  {
   "cell_type": "code",
   "execution_count": 22,
   "metadata": {},
   "outputs": [],
   "source": [
    "# montar um DF para partidas\n",
    "data = list()\n",
    "local = list()\n",
    "clube_casa = list()\n",
    "clube_casa_placar = list()\n",
    "clube_visitante = list()\n",
    "clube_visitante_placar = list()\n",
    "for i in range(11, len(partidas)):\n",
    "    for j in range(0, 9):\n",
    "        data.append(partidas[i][j].data)\n",
    "        local.append(partidas[i][j].local)\n",
    "        clube_casa.append(partidas[i][j].clube_casa.abreviacao)\n",
    "        clube_visitante.append(partidas[i][j].clube_visitante.abreviacao)\n",
    "        if partidas[i][j].placar_casa == None or partidas[i][j].placar_visitante == None:\n",
    "            clube_casa_placar.append(-1)\n",
    "            clube_visitante_placar.append(-1)\n",
    "        else:\n",
    "            clube_casa_placar.append(partidas[i][j].placar_casa)\n",
    "            clube_visitante_placar.append(partidas[i][j].placar_visitante)\n",
    "        \n",
    "partidas_dict = {}\n",
    "partidas_dict['data'] = data\n",
    "partidas_dict['local'] = local\n",
    "partidas_dict['clube_casa'] = clube_casa\n",
    "partidas_dict['clube_casa_placar'] = clube_casa_placar\n",
    "partidas_dict['clube_visitante'] = clube_visitante\n",
    "partidas_dict['clube_visitante_placar'] = clube_visitante_placar\n",
    "\n",
    "partidas_df = pd.DataFrame(partidas_dict)"
   ]
  },
  {
   "cell_type": "code",
   "execution_count": 23,
   "metadata": {},
   "outputs": [
    {
     "data": {
      "text/plain": [
       "{\"data\": {\"year\": 2019, \"month\": 4, \"day\": 27, \"hour\": 16, \"minute\": 0, \"second\": 0, \"microsecond\": 0, \"tzinfo\": null}, \"local\": \"Morumbi\", \"clube_casa\": {\"id\": 276, \"nome\": \"S\\u00e3o Paulo\", \"abreviacao\": \"SAO\"}, \"placar_casa\": 2, \"clube_visitante\": {\"id\": 263, \"nome\": \"Botafogo\", \"abreviacao\": \"BOT\"}, \"placar_visitante\": 0}"
      ]
     },
     "execution_count": 23,
     "metadata": {},
     "output_type": "execute_result"
    }
   ],
   "source": [
    "partidas[0][0]"
   ]
  },
  {
   "cell_type": "code",
   "execution_count": 24,
   "metadata": {},
   "outputs": [
    {
     "data": {
      "text/html": [
       "<div>\n",
       "<style scoped>\n",
       "    .dataframe tbody tr th:only-of-type {\n",
       "        vertical-align: middle;\n",
       "    }\n",
       "\n",
       "    .dataframe tbody tr th {\n",
       "        vertical-align: top;\n",
       "    }\n",
       "\n",
       "    .dataframe thead th {\n",
       "        text-align: right;\n",
       "    }\n",
       "</style>\n",
       "<table border=\"1\" class=\"dataframe\">\n",
       "  <thead>\n",
       "    <tr style=\"text-align: right;\">\n",
       "      <th></th>\n",
       "      <th>data</th>\n",
       "      <th>local</th>\n",
       "      <th>clube_casa</th>\n",
       "      <th>clube_casa_placar</th>\n",
       "      <th>clube_visitante</th>\n",
       "      <th>clube_visitante_placar</th>\n",
       "    </tr>\n",
       "  </thead>\n",
       "  <tbody>\n",
       "    <tr>\n",
       "      <th>0</th>\n",
       "      <td>2019-07-27 17:00:00</td>\n",
       "      <td>Arena Palmeiras</td>\n",
       "      <td>PAL</td>\n",
       "      <td>1</td>\n",
       "      <td>VAS</td>\n",
       "      <td>1</td>\n",
       "    </tr>\n",
       "    <tr>\n",
       "      <th>1</th>\n",
       "      <td>2019-07-27 19:00:00</td>\n",
       "      <td>Beira-Rio</td>\n",
       "      <td>INT</td>\n",
       "      <td>1</td>\n",
       "      <td>CEA</td>\n",
       "      <td>0</td>\n",
       "    </tr>\n",
       "    <tr>\n",
       "      <th>2</th>\n",
       "      <td>2019-07-27 19:00:00</td>\n",
       "      <td>Mineirão</td>\n",
       "      <td>CRU</td>\n",
       "      <td>0</td>\n",
       "      <td>ATL</td>\n",
       "      <td>2</td>\n",
       "    </tr>\n",
       "    <tr>\n",
       "      <th>3</th>\n",
       "      <td>2019-07-27 19:00:00</td>\n",
       "      <td>Maracanã</td>\n",
       "      <td>FLU</td>\n",
       "      <td>1</td>\n",
       "      <td>SAO</td>\n",
       "      <td>2</td>\n",
       "    </tr>\n",
       "    <tr>\n",
       "      <th>4</th>\n",
       "      <td>2019-07-28 11:00:00</td>\n",
       "      <td>Arena Condá</td>\n",
       "      <td>CHA</td>\n",
       "      <td>0</td>\n",
       "      <td>BAH</td>\n",
       "      <td>0</td>\n",
       "    </tr>\n",
       "  </tbody>\n",
       "</table>\n",
       "</div>"
      ],
      "text/plain": [
       "                 data            local clube_casa  clube_casa_placar  \\\n",
       "0 2019-07-27 17:00:00  Arena Palmeiras        PAL                  1   \n",
       "1 2019-07-27 19:00:00        Beira-Rio        INT                  1   \n",
       "2 2019-07-27 19:00:00         Mineirão        CRU                  0   \n",
       "3 2019-07-27 19:00:00         Maracanã        FLU                  1   \n",
       "4 2019-07-28 11:00:00      Arena Condá        CHA                  0   \n",
       "\n",
       "  clube_visitante  clube_visitante_placar  \n",
       "0             VAS                       1  \n",
       "1             CEA                       0  \n",
       "2             ATL                       2  \n",
       "3             SAO                       2  \n",
       "4             BAH                       0  "
      ]
     },
     "execution_count": 24,
     "metadata": {},
     "output_type": "execute_result"
    }
   ],
   "source": [
    "partidas_df.head()"
   ]
  },
  {
   "cell_type": "code",
   "execution_count": 25,
   "metadata": {},
   "outputs": [
    {
     "data": {
      "text/plain": [
       "mei    275\n",
       "ata    186\n",
       "zag    129\n",
       "lat    117\n",
       "gol     98\n",
       "tec     20\n",
       "Name: posicao, dtype: int64"
      ]
     },
     "execution_count": 25,
     "metadata": {},
     "output_type": "execute_result"
    }
   ],
   "source": [
    "atletas_df.posicao.value_counts()"
   ]
  },
  {
   "cell_type": "code",
   "execution_count": 26,
   "metadata": {},
   "outputs": [],
   "source": [
    "clubes_que_jogam_em_casa = partidas_df[partidas_df.clube_casa_placar == -1]['clube_casa'].values"
   ]
  },
  {
   "cell_type": "code",
   "execution_count": 27,
   "metadata": {},
   "outputs": [
    {
     "data": {
      "text/plain": [
       "array(['BOT', 'CSA', 'FOR', 'GRE', 'BAH', 'CRU', 'SAN', 'COR', 'AVA'],\n",
       "      dtype=object)"
      ]
     },
     "execution_count": 27,
     "metadata": {},
     "output_type": "execute_result"
    }
   ],
   "source": [
    "clubes_que_jogam_em_casa"
   ]
  },
  {
   "cell_type": "code",
   "execution_count": 28,
   "metadata": {},
   "outputs": [
    {
     "data": {
      "text/html": [
       "<div>\n",
       "<style scoped>\n",
       "    .dataframe tbody tr th:only-of-type {\n",
       "        vertical-align: middle;\n",
       "    }\n",
       "\n",
       "    .dataframe tbody tr th {\n",
       "        vertical-align: top;\n",
       "    }\n",
       "\n",
       "    .dataframe thead th {\n",
       "        text-align: right;\n",
       "    }\n",
       "</style>\n",
       "<table border=\"1\" class=\"dataframe\">\n",
       "  <thead>\n",
       "    <tr style=\"text-align: right;\">\n",
       "      <th></th>\n",
       "      <th>id</th>\n",
       "      <th>apelido</th>\n",
       "      <th>ult_pontuacao</th>\n",
       "      <th>scout</th>\n",
       "      <th>posicao</th>\n",
       "      <th>clube</th>\n",
       "      <th>status</th>\n",
       "    </tr>\n",
       "  </thead>\n",
       "  <tbody>\n",
       "    <tr>\n",
       "      <th>0</th>\n",
       "      <td>101728</td>\n",
       "      <td>Diego</td>\n",
       "      <td>0.0</td>\n",
       "      <td>{}</td>\n",
       "      <td>zag</td>\n",
       "      <td>SAO</td>\n",
       "      <td>Nulo</td>\n",
       "    </tr>\n",
       "    <tr>\n",
       "      <th>1</th>\n",
       "      <td>101729</td>\n",
       "      <td>Fabinho</td>\n",
       "      <td>0.0</td>\n",
       "      <td>{'FC': 1}</td>\n",
       "      <td>ata</td>\n",
       "      <td>SAO</td>\n",
       "      <td>Nulo</td>\n",
       "    </tr>\n",
       "    <tr>\n",
       "      <th>2</th>\n",
       "      <td>101720</td>\n",
       "      <td>Miranda</td>\n",
       "      <td>0.0</td>\n",
       "      <td>{'FC': 2, 'FS': 1, 'PE': 1, 'RB': 1}</td>\n",
       "      <td>zag</td>\n",
       "      <td>VAS</td>\n",
       "      <td>Nulo</td>\n",
       "    </tr>\n",
       "    <tr>\n",
       "      <th>3</th>\n",
       "      <td>101717</td>\n",
       "      <td>Marrony</td>\n",
       "      <td>1.8</td>\n",
       "      <td>{'A': 1, 'CA': 3, 'CV': 1, 'FC': 31, 'FD': 8, ...</td>\n",
       "      <td>ata</td>\n",
       "      <td>VAS</td>\n",
       "      <td>Suspenso</td>\n",
       "    </tr>\n",
       "    <tr>\n",
       "      <th>4</th>\n",
       "      <td>101837</td>\n",
       "      <td>Lucas Paes</td>\n",
       "      <td>0.0</td>\n",
       "      <td>{}</td>\n",
       "      <td>gol</td>\n",
       "      <td>SAO</td>\n",
       "      <td>Nulo</td>\n",
       "    </tr>\n",
       "  </tbody>\n",
       "</table>\n",
       "</div>"
      ],
      "text/plain": [
       "       id     apelido  ult_pontuacao  \\\n",
       "0  101728       Diego            0.0   \n",
       "1  101729     Fabinho            0.0   \n",
       "2  101720     Miranda            0.0   \n",
       "3  101717     Marrony            1.8   \n",
       "4  101837  Lucas Paes            0.0   \n",
       "\n",
       "                                               scout posicao clube    status  \n",
       "0                                                 {}     zag   SAO      Nulo  \n",
       "1                                          {'FC': 1}     ata   SAO      Nulo  \n",
       "2               {'FC': 2, 'FS': 1, 'PE': 1, 'RB': 1}     zag   VAS      Nulo  \n",
       "3  {'A': 1, 'CA': 3, 'CV': 1, 'FC': 31, 'FD': 8, ...     ata   VAS  Suspenso  \n",
       "4                                                 {}     gol   SAO      Nulo  "
      ]
     },
     "execution_count": 28,
     "metadata": {},
     "output_type": "execute_result"
    }
   ],
   "source": [
    "atletas_df.head()"
   ]
  },
  {
   "cell_type": "code",
   "execution_count": 30,
   "metadata": {},
   "outputs": [],
   "source": [
    "em_casa = []\n",
    "for i, j in enumerate(atletas_df.clube):\n",
    "    if j in clubes_que_jogam_em_casa:\n",
    "        em_casa.append(1)\n",
    "    else:\n",
    "        em_casa.append(0)\n",
    "atletas_df['em_casa'] = em_casa\n",
    "    "
   ]
  },
  {
   "cell_type": "code",
   "execution_count": 32,
   "metadata": {},
   "outputs": [
    {
     "data": {
      "text/plain": [
       "array(['BOT', 'CSA', 'FOR', 'GRE', 'BAH', 'CRU', 'SAN', 'COR', 'AVA'],\n",
       "      dtype=object)"
      ]
     },
     "execution_count": 32,
     "metadata": {},
     "output_type": "execute_result"
    }
   ],
   "source": [
    "clubes_que_jogam_em_casa"
   ]
  },
  {
   "cell_type": "code",
   "execution_count": 33,
   "metadata": {},
   "outputs": [
    {
     "data": {
      "text/html": [
       "<div>\n",
       "<style scoped>\n",
       "    .dataframe tbody tr th:only-of-type {\n",
       "        vertical-align: middle;\n",
       "    }\n",
       "\n",
       "    .dataframe tbody tr th {\n",
       "        vertical-align: top;\n",
       "    }\n",
       "\n",
       "    .dataframe thead th {\n",
       "        text-align: right;\n",
       "    }\n",
       "</style>\n",
       "<table border=\"1\" class=\"dataframe\">\n",
       "  <thead>\n",
       "    <tr style=\"text-align: right;\">\n",
       "      <th></th>\n",
       "      <th>id</th>\n",
       "      <th>apelido</th>\n",
       "      <th>ult_pontuacao</th>\n",
       "      <th>scout</th>\n",
       "      <th>posicao</th>\n",
       "      <th>clube</th>\n",
       "      <th>status</th>\n",
       "      <th>em_casa</th>\n",
       "    </tr>\n",
       "  </thead>\n",
       "  <tbody>\n",
       "    <tr>\n",
       "      <th>0</th>\n",
       "      <td>101728</td>\n",
       "      <td>Diego</td>\n",
       "      <td>0.0</td>\n",
       "      <td>{}</td>\n",
       "      <td>zag</td>\n",
       "      <td>SAO</td>\n",
       "      <td>Nulo</td>\n",
       "      <td>0</td>\n",
       "    </tr>\n",
       "    <tr>\n",
       "      <th>1</th>\n",
       "      <td>101729</td>\n",
       "      <td>Fabinho</td>\n",
       "      <td>0.0</td>\n",
       "      <td>{'FC': 1}</td>\n",
       "      <td>ata</td>\n",
       "      <td>SAO</td>\n",
       "      <td>Nulo</td>\n",
       "      <td>0</td>\n",
       "    </tr>\n",
       "    <tr>\n",
       "      <th>2</th>\n",
       "      <td>101720</td>\n",
       "      <td>Miranda</td>\n",
       "      <td>0.0</td>\n",
       "      <td>{'FC': 2, 'FS': 1, 'PE': 1, 'RB': 1}</td>\n",
       "      <td>zag</td>\n",
       "      <td>VAS</td>\n",
       "      <td>Nulo</td>\n",
       "      <td>0</td>\n",
       "    </tr>\n",
       "    <tr>\n",
       "      <th>3</th>\n",
       "      <td>101717</td>\n",
       "      <td>Marrony</td>\n",
       "      <td>1.8</td>\n",
       "      <td>{'A': 1, 'CA': 3, 'CV': 1, 'FC': 31, 'FD': 8, ...</td>\n",
       "      <td>ata</td>\n",
       "      <td>VAS</td>\n",
       "      <td>Suspenso</td>\n",
       "      <td>0</td>\n",
       "    </tr>\n",
       "    <tr>\n",
       "      <th>4</th>\n",
       "      <td>101837</td>\n",
       "      <td>Lucas Paes</td>\n",
       "      <td>0.0</td>\n",
       "      <td>{}</td>\n",
       "      <td>gol</td>\n",
       "      <td>SAO</td>\n",
       "      <td>Nulo</td>\n",
       "      <td>0</td>\n",
       "    </tr>\n",
       "  </tbody>\n",
       "</table>\n",
       "</div>"
      ],
      "text/plain": [
       "       id     apelido  ult_pontuacao  \\\n",
       "0  101728       Diego            0.0   \n",
       "1  101729     Fabinho            0.0   \n",
       "2  101720     Miranda            0.0   \n",
       "3  101717     Marrony            1.8   \n",
       "4  101837  Lucas Paes            0.0   \n",
       "\n",
       "                                               scout posicao clube    status  \\\n",
       "0                                                 {}     zag   SAO      Nulo   \n",
       "1                                          {'FC': 1}     ata   SAO      Nulo   \n",
       "2               {'FC': 2, 'FS': 1, 'PE': 1, 'RB': 1}     zag   VAS      Nulo   \n",
       "3  {'A': 1, 'CA': 3, 'CV': 1, 'FC': 31, 'FD': 8, ...     ata   VAS  Suspenso   \n",
       "4                                                 {}     gol   SAO      Nulo   \n",
       "\n",
       "   em_casa  \n",
       "0        0  \n",
       "1        0  \n",
       "2        0  \n",
       "3        0  \n",
       "4        0  "
      ]
     },
     "execution_count": 33,
     "metadata": {},
     "output_type": "execute_result"
    }
   ],
   "source": [
    "atletas_df.head()"
   ]
  },
  {
   "cell_type": "code",
   "execution_count": null,
   "metadata": {},
   "outputs": [],
   "source": []
  }
 ],
 "metadata": {
  "kernelspec": {
   "display_name": "Python 3",
   "language": "python",
   "name": "python3"
  },
  "language_info": {
   "codemirror_mode": {
    "name": "ipython",
    "version": 3
   },
   "file_extension": ".py",
   "mimetype": "text/x-python",
   "name": "python",
   "nbconvert_exporter": "python",
   "pygments_lexer": "ipython3",
   "version": "3.7.1"
  }
 },
 "nbformat": 4,
 "nbformat_minor": 4
}
