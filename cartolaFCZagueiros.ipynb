{
 "cells": [
  {
   "cell_type": "code",
   "execution_count": 1,
   "metadata": {},
   "outputs": [],
   "source": [
    "import cartolafc\n",
    "import pprint\n",
    "import json\n",
    "import pandas as pd\n",
    "import matplotlib.pyplot as plt\n",
    "import numpy as np"
   ]
  },
  {
   "cell_type": "code",
   "execution_count": 2,
   "metadata": {},
   "outputs": [],
   "source": [
    "# Criando um objeto para trabalhar\n",
    "# Logando para acessar todas as funcionalidades\n",
    "api = cartolafc.Api()\n",
    "login = api.set_credentials('robson.s.macedo@gmail.com', 'bradesco11')"
   ]
  },
  {
   "cell_type": "code",
   "execution_count": 3,
   "metadata": {},
   "outputs": [],
   "source": [
    "# extraindo dados dos clubes\n",
    "# extraindo dados das partidas\n",
    "# extraindo dados dos atletas\n",
    "# trazendo meus dados para comprar de acordo com a minha realidade\n",
    "# Armazenando os dados das pontuacoes dos atletas em uma lista\n",
    "clubes = api.clubes()\n",
    "# trocar esse range final em cada rodada\n",
    "partidas = [api.partidas(i) for i in range(1, 27)]\n",
    "atletas = api.mercado_atletas()\n",
    "meusDados = api.time_logado() \n",
    "IdsAtletas = [x.id for x in atletas]\n",
    "pontuacoesAtletas = [api.pontuacao_atleta(i) for i in IdsAtletas]"
   ]
  },
  {
   "cell_type": "code",
   "execution_count": 4,
   "metadata": {},
   "outputs": [],
   "source": [
    "# montar dicionario para facilitar montagem do Dataframe de PONTUACOES\n",
    "atleta_id = list()\n",
    "rodada_id  =list()\n",
    "pontos = list()\n",
    "preco = list()\n",
    "variacao = list()\n",
    "media = list()\n",
    "for i in pontuacoesAtletas:\n",
    "    for j in i:\n",
    "        atleta_id.append(j.atleta_id)\n",
    "        rodada_id.append(j.rodada_id)\n",
    "        pontos.append(j.pontos)\n",
    "        preco.append(j.preco)\n",
    "        variacao.append(j.variacao)\n",
    "        media.append(j.media)\n",
    "        \n",
    "pontuacoesAtletas_dict = {}\n",
    "pontuacoesAtletas_dict['atleta_id'] = atleta_id\n",
    "pontuacoesAtletas_dict['rodada_id'] = rodada_id\n",
    "pontuacoesAtletas_dict['pontos'] = pontos\n",
    "pontuacoesAtletas_dict['preco'] = preco\n",
    "pontuacoesAtletas_dict['variacao'] = variacao\n",
    "pontuacoesAtletas_dict['media'] = media\n",
    "\n",
    "# Montando o DF para as pontuações dos atletas\n",
    "pontuacoesAtletas_df = pd.DataFrame(pontuacoesAtletas_dict)\n"
   ]
  },
  {
   "cell_type": "code",
   "execution_count": 5,
   "metadata": {},
   "outputs": [
    {
     "data": {
      "text/plain": [
       "12.024166666666666"
      ]
     },
     "execution_count": 5,
     "metadata": {},
     "output_type": "execute_result"
    }
   ],
   "source": [
    "# testes até nas proximas 4linhas\n",
    "pontuacoesAtletas_df.groupby('atleta_id')['media'].mean().max()"
   ]
  },
  {
   "cell_type": "code",
   "execution_count": 6,
   "metadata": {},
   "outputs": [
    {
     "data": {
      "text/html": [
       "<div>\n",
       "<style scoped>\n",
       "    .dataframe tbody tr th:only-of-type {\n",
       "        vertical-align: middle;\n",
       "    }\n",
       "\n",
       "    .dataframe tbody tr th {\n",
       "        vertical-align: top;\n",
       "    }\n",
       "\n",
       "    .dataframe thead th {\n",
       "        text-align: right;\n",
       "    }\n",
       "</style>\n",
       "<table border=\"1\" class=\"dataframe\">\n",
       "  <thead>\n",
       "    <tr style=\"text-align: right;\">\n",
       "      <th></th>\n",
       "      <th>atleta_id</th>\n",
       "      <th>rodada_id</th>\n",
       "      <th>pontos</th>\n",
       "      <th>preco</th>\n",
       "      <th>variacao</th>\n",
       "      <th>media</th>\n",
       "    </tr>\n",
       "  </thead>\n",
       "  <tbody>\n",
       "    <tr>\n",
       "      <th>5935</th>\n",
       "      <td>87863</td>\n",
       "      <td>21</td>\n",
       "      <td>16.7</td>\n",
       "      <td>19.33</td>\n",
       "      <td>1.28</td>\n",
       "      <td>12.02</td>\n",
       "    </tr>\n",
       "  </tbody>\n",
       "</table>\n",
       "</div>"
      ],
      "text/plain": [
       "      atleta_id  rodada_id  pontos  preco  variacao  media\n",
       "5935      87863         21    16.7  19.33      1.28  12.02"
      ]
     },
     "execution_count": 6,
     "metadata": {},
     "output_type": "execute_result"
    }
   ],
   "source": [
    "pontuacoesAtletas_df[pontuacoesAtletas_df.media == 12.02]"
   ]
  },
  {
   "cell_type": "code",
   "execution_count": 7,
   "metadata": {},
   "outputs": [
    {
     "name": "stdout",
     "output_type": "stream",
     "text": [
      "Arrascaeta\n"
     ]
    }
   ],
   "source": [
    "for i in atletas:\n",
    "    if i.id == 87863:\n",
    "        print(i.apelido)"
   ]
  },
  {
   "cell_type": "code",
   "execution_count": 8,
   "metadata": {},
   "outputs": [],
   "source": [
    "# preparando para criar o DF de dados dos ATLETAS\n",
    "ident = list()\n",
    "apelido = list()\n",
    "pontos = list()\n",
    "scout = list()\n",
    "posicao = list()\n",
    "clube = list()\n",
    "status = list()\n",
    "for i in atletas:\n",
    "    ident.append(i.id)\n",
    "    apelido.append(i.apelido)\n",
    "    pontos.append(i.pontos)\n",
    "    scout.append(i.scout)\n",
    "    posicao.append(i.posicao[2])\n",
    "    clube.append(i.clube.abreviacao)\n",
    "    status.append(i.status[1])\n",
    "    \n",
    "# Criando o dicionario\n",
    "atletas_dict = {}\n",
    "atletas_dict['id'] = ident\n",
    "atletas_dict['apelido'] = apelido\n",
    "atletas_dict['ult_pontuacao']  =pontos\n",
    "atletas_dict['scout'] = scout\n",
    "atletas_dict['posicao'] = posicao\n",
    "atletas_dict['clube'] = clube\n",
    "atletas_dict['status'] = status\n",
    "\n",
    "# Criando um DF para os atletas\n",
    "atletas_df = pd.DataFrame(atletas_dict)"
   ]
  },
  {
   "cell_type": "code",
   "execution_count": 9,
   "metadata": {},
   "outputs": [
    {
     "data": {
      "text/plain": [
       "{\"id\": 37614, \"apelido\": \"Evandro\", \"pontos\": 0, \"scout\": null, \"posicao\": [4, \"Meia\", \"mei\"], \"clube\": {\"id\": 277, \"nome\": \"Santos\", \"abreviacao\": \"SAN\"}, \"status\": [7, \"Prov\\u00e1vel\"], \"is_capitao\": null}"
      ]
     },
     "execution_count": 9,
     "metadata": {},
     "output_type": "execute_result"
    }
   ],
   "source": [
    "atletas[0]"
   ]
  },
  {
   "cell_type": "code",
   "execution_count": 10,
   "metadata": {},
   "outputs": [
    {
     "data": {
      "text/html": [
       "<div>\n",
       "<style scoped>\n",
       "    .dataframe tbody tr th:only-of-type {\n",
       "        vertical-align: middle;\n",
       "    }\n",
       "\n",
       "    .dataframe tbody tr th {\n",
       "        vertical-align: top;\n",
       "    }\n",
       "\n",
       "    .dataframe thead th {\n",
       "        text-align: right;\n",
       "    }\n",
       "</style>\n",
       "<table border=\"1\" class=\"dataframe\">\n",
       "  <thead>\n",
       "    <tr style=\"text-align: right;\">\n",
       "      <th></th>\n",
       "      <th>id</th>\n",
       "      <th>apelido</th>\n",
       "      <th>ult_pontuacao</th>\n",
       "      <th>scout</th>\n",
       "      <th>posicao</th>\n",
       "      <th>clube</th>\n",
       "      <th>status</th>\n",
       "    </tr>\n",
       "  </thead>\n",
       "  <tbody>\n",
       "    <tr>\n",
       "      <th>0</th>\n",
       "      <td>37614</td>\n",
       "      <td>Evandro</td>\n",
       "      <td>0</td>\n",
       "      <td>None</td>\n",
       "      <td>mei</td>\n",
       "      <td>SAN</td>\n",
       "      <td>Provável</td>\n",
       "    </tr>\n",
       "    <tr>\n",
       "      <th>1</th>\n",
       "      <td>38910</td>\n",
       "      <td>Ricardo Oliveira</td>\n",
       "      <td>0</td>\n",
       "      <td>None</td>\n",
       "      <td>ata</td>\n",
       "      <td>ATL</td>\n",
       "      <td>Nulo</td>\n",
       "    </tr>\n",
       "    <tr>\n",
       "      <th>2</th>\n",
       "      <td>37662</td>\n",
       "      <td>Jonathan</td>\n",
       "      <td>0</td>\n",
       "      <td>None</td>\n",
       "      <td>lat</td>\n",
       "      <td>ATL</td>\n",
       "      <td>Contundido</td>\n",
       "    </tr>\n",
       "    <tr>\n",
       "      <th>3</th>\n",
       "      <td>37646</td>\n",
       "      <td>Betão</td>\n",
       "      <td>0</td>\n",
       "      <td>None</td>\n",
       "      <td>zag</td>\n",
       "      <td>AVA</td>\n",
       "      <td>Provável</td>\n",
       "    </tr>\n",
       "    <tr>\n",
       "      <th>4</th>\n",
       "      <td>38632</td>\n",
       "      <td>Matheus Ferraz</td>\n",
       "      <td>0</td>\n",
       "      <td>None</td>\n",
       "      <td>zag</td>\n",
       "      <td>FLU</td>\n",
       "      <td>Contundido</td>\n",
       "    </tr>\n",
       "  </tbody>\n",
       "</table>\n",
       "</div>"
      ],
      "text/plain": [
       "      id           apelido  ult_pontuacao scout posicao clube      status\n",
       "0  37614           Evandro              0  None     mei   SAN    Provável\n",
       "1  38910  Ricardo Oliveira              0  None     ata   ATL        Nulo\n",
       "2  37662          Jonathan              0  None     lat   ATL  Contundido\n",
       "3  37646             Betão              0  None     zag   AVA    Provável\n",
       "4  38632    Matheus Ferraz              0  None     zag   FLU  Contundido"
      ]
     },
     "execution_count": 10,
     "metadata": {},
     "output_type": "execute_result"
    }
   ],
   "source": [
    "atletas_df.head()"
   ]
  },
  {
   "cell_type": "code",
   "execution_count": 11,
   "metadata": {},
   "outputs": [],
   "source": [
    "# montar um DF para partidas\n",
    "data = list()\n",
    "local = list()\n",
    "clube_casa = list()\n",
    "clube_casa_placar = list()\n",
    "clube_visitante = list()\n",
    "clube_visitante_placar = list()\n",
    "for i in range(11, len(partidas)):\n",
    "    for j in range(0, 9):\n",
    "        data.append(partidas[i][j].data)\n",
    "        local.append(partidas[i][j].local)\n",
    "        clube_casa.append(partidas[i][j].clube_casa.abreviacao)\n",
    "        clube_visitante.append(partidas[i][j].clube_visitante.abreviacao)\n",
    "        if partidas[i][j].placar_casa == None or partidas[i][j].placar_visitante == None:\n",
    "            clube_casa_placar.append(-1)\n",
    "            clube_visitante_placar.append(-1)\n",
    "        else:\n",
    "            clube_casa_placar.append(partidas[i][j].placar_casa)\n",
    "            clube_visitante_placar.append(partidas[i][j].placar_visitante)\n",
    "        \n",
    "partidas_dict = {}\n",
    "partidas_dict['data'] = data\n",
    "partidas_dict['local'] = local\n",
    "partidas_dict['clube_casa'] = clube_casa\n",
    "partidas_dict['clube_casa_placar'] = clube_casa_placar\n",
    "partidas_dict['clube_visitante'] = clube_visitante\n",
    "partidas_dict['clube_visitante_placar'] = clube_visitante_placar\n",
    "\n",
    "partidas_df = pd.DataFrame(partidas_dict)"
   ]
  },
  {
   "cell_type": "code",
   "execution_count": 61,
   "metadata": {},
   "outputs": [
    {
     "data": {
      "text/html": [
       "<div>\n",
       "<style scoped>\n",
       "    .dataframe tbody tr th:only-of-type {\n",
       "        vertical-align: middle;\n",
       "    }\n",
       "\n",
       "    .dataframe tbody tr th {\n",
       "        vertical-align: top;\n",
       "    }\n",
       "\n",
       "    .dataframe thead th {\n",
       "        text-align: right;\n",
       "    }\n",
       "</style>\n",
       "<table border=\"1\" class=\"dataframe\">\n",
       "  <thead>\n",
       "    <tr style=\"text-align: right;\">\n",
       "      <th></th>\n",
       "      <th>data</th>\n",
       "      <th>local</th>\n",
       "      <th>clube_casa</th>\n",
       "      <th>clube_casa_placar</th>\n",
       "      <th>clube_visitante</th>\n",
       "      <th>clube_visitante_placar</th>\n",
       "    </tr>\n",
       "  </thead>\n",
       "  <tbody>\n",
       "    <tr>\n",
       "      <th>18</th>\n",
       "      <td>2019-08-10 17:00:00</td>\n",
       "      <td>Castelão (CE)</td>\n",
       "      <td>CEA</td>\n",
       "      <td>4</td>\n",
       "      <td>CHA</td>\n",
       "      <td>1</td>\n",
       "    </tr>\n",
       "    <tr>\n",
       "      <th>19</th>\n",
       "      <td>2019-08-10 17:00:00</td>\n",
       "      <td>Morumbi</td>\n",
       "      <td>SAO</td>\n",
       "      <td>3</td>\n",
       "      <td>SAN</td>\n",
       "      <td>2</td>\n",
       "    </tr>\n",
       "    <tr>\n",
       "      <th>20</th>\n",
       "      <td>2019-08-10 19:00:00</td>\n",
       "      <td>Maracanã</td>\n",
       "      <td>FLA</td>\n",
       "      <td>3</td>\n",
       "      <td>GRE</td>\n",
       "      <td>1</td>\n",
       "    </tr>\n",
       "    <tr>\n",
       "      <th>21</th>\n",
       "      <td>2019-08-10 21:00:00</td>\n",
       "      <td>Independência</td>\n",
       "      <td>ATL</td>\n",
       "      <td>2</td>\n",
       "      <td>FLU</td>\n",
       "      <td>1</td>\n",
       "    </tr>\n",
       "    <tr>\n",
       "      <th>22</th>\n",
       "      <td>2019-08-11 11:00:00</td>\n",
       "      <td>Beira-Rio</td>\n",
       "      <td>INT</td>\n",
       "      <td>0</td>\n",
       "      <td>COR</td>\n",
       "      <td>0</td>\n",
       "    </tr>\n",
       "  </tbody>\n",
       "</table>\n",
       "</div>"
      ],
      "text/plain": [
       "                  data          local clube_casa  clube_casa_placar  \\\n",
       "18 2019-08-10 17:00:00  Castelão (CE)        CEA                  4   \n",
       "19 2019-08-10 17:00:00        Morumbi        SAO                  3   \n",
       "20 2019-08-10 19:00:00       Maracanã        FLA                  3   \n",
       "21 2019-08-10 21:00:00  Independência        ATL                  2   \n",
       "22 2019-08-11 11:00:00      Beira-Rio        INT                  0   \n",
       "\n",
       "   clube_visitante  clube_visitante_placar  \n",
       "18             CHA                       1  \n",
       "19             SAN                       2  \n",
       "20             GRE                       1  \n",
       "21             FLU                       1  \n",
       "22             COR                       0  "
      ]
     },
     "execution_count": 61,
     "metadata": {},
     "output_type": "execute_result"
    }
   ],
   "source": [
    "partidas_df.head(5)"
   ]
  },
  {
   "cell_type": "code",
   "execution_count": 13,
   "metadata": {},
   "outputs": [],
   "source": [
    "# setando o tamanho correto para partidas_df\n",
    "partidas_df = partidas_df.iloc[18:, :]"
   ]
  },
  {
   "cell_type": "code",
   "execution_count": 14,
   "metadata": {},
   "outputs": [],
   "source": [
    "todos_os_jogos = partidas_df.clube_casa.values"
   ]
  },
  {
   "cell_type": "code",
   "execution_count": 62,
   "metadata": {},
   "outputs": [
    {
     "data": {
      "text/plain": [
       "array(['CEA', 'SAO', 'FLA', 'ATL', 'INT', 'PAL', 'BOT', 'AVA', 'GOI',\n",
       "       'FOR', 'COR', 'VAS', 'ATL', 'GRE', 'CRU', 'SAO', 'FLU', 'BAH',\n",
       "       'ATL', 'GRE', 'SAN', 'VAS', 'GOI', 'CEA', 'AVA', 'CSA', 'BOT',\n",
       "       'SAO', 'BAH', 'CHA', 'ATL', 'INT', 'FOR', 'FLA', 'CRU', 'COR',\n",
       "       'COR', 'VAS', 'FOR', 'AVA', 'INT', 'GOI', 'CRU', 'SAN', 'BOT',\n",
       "       'FLA', 'PAL', 'CHA', 'CEA', 'ATL', 'ATL', 'GRE', 'FLU', 'BAH',\n",
       "       'BOT', 'CRU', 'COR', 'SAN', 'INT', 'FOR', 'VAS', 'CSA', 'GOI',\n",
       "       'CEA', 'SAO', 'FLA', 'BAH', 'PAL', 'GRE', 'FLU', 'ATL', 'ATL',\n",
       "       'FLA', 'COR', 'INT', 'SAN', 'FLU', 'ATL', 'ATL', 'FOR', 'AVA',\n",
       "       'SAO', 'VAS', 'GRE', 'BAH', 'CRU', 'CHA', 'CEA', 'PAL', 'BOT',\n",
       "       'BOT', 'CSA', 'FOR', 'GRE', 'BAH', 'CRU', 'SAN', 'COR', 'AVA',\n",
       "       'GOI', 'FLU', 'PAL', 'INT', 'CEA', 'VAS', 'ATL', 'SAO', 'ATL',\n",
       "       'GRE', 'CSA', 'FOR', 'CRU', 'PAL', 'VAS', 'GOI', 'SAN', 'AVA'],\n",
       "      dtype=object)"
      ]
     },
     "execution_count": 62,
     "metadata": {},
     "output_type": "execute_result"
    }
   ],
   "source": [
    "todos_os_jogos"
   ]
  },
  {
   "cell_type": "code",
   "execution_count": 63,
   "metadata": {},
   "outputs": [
    {
     "name": "stdout",
     "output_type": "stream",
     "text": [
      "[['CEA', 'SAO', 'FLA', 'ATL', 'INT', 'PAL', 'BOT', 'AVA', 'GOI'], ['FOR', 'COR', 'VAS', 'ATL', 'GRE', 'CRU', 'SAO', 'FLU', 'BAH'], ['ATL', 'GRE', 'SAN', 'VAS', 'GOI', 'CEA', 'AVA', 'CSA', 'BOT'], ['SAO', 'BAH', 'CHA', 'ATL', 'INT', 'FOR', 'FLA', 'CRU', 'COR'], ['COR', 'VAS', 'FOR', 'AVA', 'INT', 'GOI', 'CRU', 'SAN', 'BOT'], ['FLA', 'PAL', 'CHA', 'CEA', 'ATL', 'ATL', 'GRE', 'FLU', 'BAH'], ['BOT', 'CRU', 'COR', 'SAN', 'INT', 'FOR', 'VAS', 'CSA', 'GOI'], ['CEA', 'SAO', 'FLA', 'BAH', 'PAL', 'GRE', 'FLU', 'ATL', 'ATL'], ['FLA', 'COR', 'INT', 'SAN', 'FLU', 'ATL', 'ATL', 'FOR', 'AVA'], ['SAO', 'VAS', 'GRE', 'BAH', 'CRU', 'CHA', 'CEA', 'PAL', 'BOT'], ['BOT', 'CSA', 'FOR', 'GRE', 'BAH', 'CRU', 'SAN', 'COR', 'AVA'], ['GOI', 'FLU', 'PAL', 'INT', 'CEA', 'VAS', 'ATL', 'SAO', 'ATL'], ['GRE', 'CSA', 'FOR', 'CRU', 'PAL', 'VAS', 'GOI', 'SAN', 'AVA']]\n"
     ]
    }
   ],
   "source": [
    "# separando os times da casa em listas\n",
    "ini = 0\n",
    "fim = 9\n",
    "timesPorRodada = []\n",
    "for i in range(14, 27):\n",
    "    timesPorRodada.append((list(todos_os_jogos[ini:fim])))\n",
    "    ini = ini + 9\n",
    "    fim = fim + 9\n",
    "    \n",
    "print(timesPorRodada)\n",
    "    "
   ]
  },
  {
   "cell_type": "code",
   "execution_count": 64,
   "metadata": {},
   "outputs": [
    {
     "data": {
      "text/plain": [
       "(825, 7)"
      ]
     },
     "execution_count": 64,
     "metadata": {},
     "output_type": "execute_result"
    }
   ],
   "source": [
    "atletas_df.shape"
   ]
  },
  {
   "cell_type": "code",
   "execution_count": 65,
   "metadata": {},
   "outputs": [
    {
     "data": {
      "text/plain": [
       "(9900, 6)"
      ]
     },
     "execution_count": 65,
     "metadata": {},
     "output_type": "execute_result"
    }
   ],
   "source": [
    "pontuacoesAtletas_df.shape"
   ]
  },
  {
   "cell_type": "code",
   "execution_count": 32,
   "metadata": {},
   "outputs": [],
   "source": [
    "pontuacoesAtletas_df.rename(columns={'atleta_id':'id'}, inplace=True)"
   ]
  },
  {
   "cell_type": "code",
   "execution_count": 66,
   "metadata": {},
   "outputs": [],
   "source": [
    "df_join = pontuacoesAtletas_df.merge(atletas_df, on='id')"
   ]
  },
  {
   "cell_type": "code",
   "execution_count": 67,
   "metadata": {},
   "outputs": [
    {
     "data": {
      "text/plain": [
       "9900"
      ]
     },
     "execution_count": 67,
     "metadata": {},
     "output_type": "execute_result"
    }
   ],
   "source": [
    "df_join.shape[0]"
   ]
  },
  {
   "cell_type": "code",
   "execution_count": 68,
   "metadata": {},
   "outputs": [
    {
     "data": {
      "text/plain": [
       "13"
      ]
     },
     "execution_count": 68,
     "metadata": {},
     "output_type": "execute_result"
    }
   ],
   "source": [
    "len(timesPorRodada)"
   ]
  },
  {
   "cell_type": "code",
   "execution_count": 69,
   "metadata": {},
   "outputs": [
    {
     "data": {
      "text/plain": [
       "825"
      ]
     },
     "execution_count": 69,
     "metadata": {},
     "output_type": "execute_result"
    }
   ],
   "source": [
    "(df_join.rodada_id == 14).sum()"
   ]
  },
  {
   "cell_type": "code",
   "execution_count": 70,
   "metadata": {},
   "outputs": [
    {
     "data": {
      "text/html": [
       "<div>\n",
       "<style scoped>\n",
       "    .dataframe tbody tr th:only-of-type {\n",
       "        vertical-align: middle;\n",
       "    }\n",
       "\n",
       "    .dataframe tbody tr th {\n",
       "        vertical-align: top;\n",
       "    }\n",
       "\n",
       "    .dataframe thead th {\n",
       "        text-align: right;\n",
       "    }\n",
       "</style>\n",
       "<table border=\"1\" class=\"dataframe\">\n",
       "  <thead>\n",
       "    <tr style=\"text-align: right;\">\n",
       "      <th></th>\n",
       "      <th>id</th>\n",
       "      <th>rodada_id</th>\n",
       "      <th>pontos</th>\n",
       "      <th>preco</th>\n",
       "      <th>variacao</th>\n",
       "      <th>media</th>\n",
       "      <th>apelido</th>\n",
       "      <th>ult_pontuacao</th>\n",
       "      <th>scout</th>\n",
       "      <th>posicao</th>\n",
       "      <th>clube</th>\n",
       "      <th>status</th>\n",
       "    </tr>\n",
       "  </thead>\n",
       "  <tbody>\n",
       "    <tr>\n",
       "      <th>0</th>\n",
       "      <td>37614</td>\n",
       "      <td>14</td>\n",
       "      <td>0.0</td>\n",
       "      <td>4.67</td>\n",
       "      <td>-0.38</td>\n",
       "      <td>0.80</td>\n",
       "      <td>Evandro</td>\n",
       "      <td>0</td>\n",
       "      <td>None</td>\n",
       "      <td>mei</td>\n",
       "      <td>SAN</td>\n",
       "      <td>Provável</td>\n",
       "    </tr>\n",
       "    <tr>\n",
       "      <th>1</th>\n",
       "      <td>37614</td>\n",
       "      <td>15</td>\n",
       "      <td>0.0</td>\n",
       "      <td>4.51</td>\n",
       "      <td>-0.16</td>\n",
       "      <td>0.53</td>\n",
       "      <td>Evandro</td>\n",
       "      <td>0</td>\n",
       "      <td>None</td>\n",
       "      <td>mei</td>\n",
       "      <td>SAN</td>\n",
       "      <td>Provável</td>\n",
       "    </tr>\n",
       "    <tr>\n",
       "      <th>2</th>\n",
       "      <td>37614</td>\n",
       "      <td>16</td>\n",
       "      <td>0.6</td>\n",
       "      <td>4.48</td>\n",
       "      <td>-0.03</td>\n",
       "      <td>0.55</td>\n",
       "      <td>Evandro</td>\n",
       "      <td>0</td>\n",
       "      <td>None</td>\n",
       "      <td>mei</td>\n",
       "      <td>SAN</td>\n",
       "      <td>Provável</td>\n",
       "    </tr>\n",
       "    <tr>\n",
       "      <th>3</th>\n",
       "      <td>37614</td>\n",
       "      <td>17</td>\n",
       "      <td>3.4</td>\n",
       "      <td>5.04</td>\n",
       "      <td>0.56</td>\n",
       "      <td>1.12</td>\n",
       "      <td>Evandro</td>\n",
       "      <td>0</td>\n",
       "      <td>None</td>\n",
       "      <td>mei</td>\n",
       "      <td>SAN</td>\n",
       "      <td>Provável</td>\n",
       "    </tr>\n",
       "    <tr>\n",
       "      <th>4</th>\n",
       "      <td>37614</td>\n",
       "      <td>18</td>\n",
       "      <td>0.0</td>\n",
       "      <td>5.04</td>\n",
       "      <td>0.00</td>\n",
       "      <td>1.12</td>\n",
       "      <td>Evandro</td>\n",
       "      <td>0</td>\n",
       "      <td>None</td>\n",
       "      <td>mei</td>\n",
       "      <td>SAN</td>\n",
       "      <td>Provável</td>\n",
       "    </tr>\n",
       "  </tbody>\n",
       "</table>\n",
       "</div>"
      ],
      "text/plain": [
       "      id  rodada_id  pontos  preco  variacao  media  apelido  ult_pontuacao  \\\n",
       "0  37614         14     0.0   4.67     -0.38   0.80  Evandro              0   \n",
       "1  37614         15     0.0   4.51     -0.16   0.53  Evandro              0   \n",
       "2  37614         16     0.6   4.48     -0.03   0.55  Evandro              0   \n",
       "3  37614         17     3.4   5.04      0.56   1.12  Evandro              0   \n",
       "4  37614         18     0.0   5.04      0.00   1.12  Evandro              0   \n",
       "\n",
       "  scout posicao clube    status  \n",
       "0  None     mei   SAN  Provável  \n",
       "1  None     mei   SAN  Provável  \n",
       "2  None     mei   SAN  Provável  \n",
       "3  None     mei   SAN  Provável  \n",
       "4  None     mei   SAN  Provável  "
      ]
     },
     "execution_count": 70,
     "metadata": {},
     "output_type": "execute_result"
    }
   ],
   "source": [
    "df_join.head()"
   ]
  },
  {
   "cell_type": "code",
   "execution_count": 71,
   "metadata": {},
   "outputs": [
    {
     "data": {
      "text/plain": [
       "13"
      ]
     },
     "execution_count": 71,
     "metadata": {},
     "output_type": "execute_result"
    }
   ],
   "source": [
    "len(timesPorRodada)"
   ]
  },
  {
   "cell_type": "code",
   "execution_count": 72,
   "metadata": {},
   "outputs": [],
   "source": [
    "# Criando coluna para verificar se o time jogou dentro ou fora de casa\n",
    "em_casa = []\n",
    "for i, rodada in zip(range(0, 12), range(14, 26)):\n",
    "    for j in range(0, 825):\n",
    "        if df_join[df_join['rodada_id'] == rodada]['clube'].values[j] in timesPorRodada[i]:\n",
    "            em_casa.append(1)\n",
    "        else: \n",
    "            em_casa.append(0)\n",
    "df_join['em_casa'] = em_casa"
   ]
  },
  {
   "cell_type": "code",
   "execution_count": 76,
   "metadata": {},
   "outputs": [
    {
     "data": {
      "text/html": [
       "<div>\n",
       "<style scoped>\n",
       "    .dataframe tbody tr th:only-of-type {\n",
       "        vertical-align: middle;\n",
       "    }\n",
       "\n",
       "    .dataframe tbody tr th {\n",
       "        vertical-align: top;\n",
       "    }\n",
       "\n",
       "    .dataframe thead th {\n",
       "        text-align: right;\n",
       "    }\n",
       "</style>\n",
       "<table border=\"1\" class=\"dataframe\">\n",
       "  <thead>\n",
       "    <tr style=\"text-align: right;\">\n",
       "      <th></th>\n",
       "      <th>id</th>\n",
       "      <th>rodada_id</th>\n",
       "      <th>pontos</th>\n",
       "      <th>preco</th>\n",
       "      <th>variacao</th>\n",
       "      <th>media</th>\n",
       "      <th>apelido</th>\n",
       "      <th>ult_pontuacao</th>\n",
       "      <th>scout</th>\n",
       "      <th>posicao</th>\n",
       "      <th>clube</th>\n",
       "      <th>status</th>\n",
       "      <th>em_casa</th>\n",
       "    </tr>\n",
       "  </thead>\n",
       "  <tbody>\n",
       "    <tr>\n",
       "      <th>9895</th>\n",
       "      <td>84509</td>\n",
       "      <td>21</td>\n",
       "      <td>5.2</td>\n",
       "      <td>5.35</td>\n",
       "      <td>0.41</td>\n",
       "      <td>3.16</td>\n",
       "      <td>Valdo</td>\n",
       "      <td>0</td>\n",
       "      <td>None</td>\n",
       "      <td>zag</td>\n",
       "      <td>CEA</td>\n",
       "      <td>Provável</td>\n",
       "      <td>1</td>\n",
       "    </tr>\n",
       "    <tr>\n",
       "      <th>9896</th>\n",
       "      <td>84509</td>\n",
       "      <td>22</td>\n",
       "      <td>0.0</td>\n",
       "      <td>4.57</td>\n",
       "      <td>-0.78</td>\n",
       "      <td>2.98</td>\n",
       "      <td>Valdo</td>\n",
       "      <td>0</td>\n",
       "      <td>None</td>\n",
       "      <td>zag</td>\n",
       "      <td>CEA</td>\n",
       "      <td>Provável</td>\n",
       "      <td>0</td>\n",
       "    </tr>\n",
       "    <tr>\n",
       "      <th>9897</th>\n",
       "      <td>84509</td>\n",
       "      <td>23</td>\n",
       "      <td>0.0</td>\n",
       "      <td>4.52</td>\n",
       "      <td>-0.05</td>\n",
       "      <td>2.82</td>\n",
       "      <td>Valdo</td>\n",
       "      <td>0</td>\n",
       "      <td>None</td>\n",
       "      <td>zag</td>\n",
       "      <td>CEA</td>\n",
       "      <td>Provável</td>\n",
       "      <td>1</td>\n",
       "    </tr>\n",
       "    <tr>\n",
       "      <th>9898</th>\n",
       "      <td>84509</td>\n",
       "      <td>24</td>\n",
       "      <td>0.2</td>\n",
       "      <td>4.49</td>\n",
       "      <td>-0.03</td>\n",
       "      <td>2.69</td>\n",
       "      <td>Valdo</td>\n",
       "      <td>0</td>\n",
       "      <td>None</td>\n",
       "      <td>zag</td>\n",
       "      <td>CEA</td>\n",
       "      <td>Provável</td>\n",
       "      <td>0</td>\n",
       "    </tr>\n",
       "    <tr>\n",
       "      <th>9899</th>\n",
       "      <td>84509</td>\n",
       "      <td>25</td>\n",
       "      <td>0.0</td>\n",
       "      <td>4.49</td>\n",
       "      <td>0.00</td>\n",
       "      <td>2.69</td>\n",
       "      <td>Valdo</td>\n",
       "      <td>0</td>\n",
       "      <td>None</td>\n",
       "      <td>zag</td>\n",
       "      <td>CEA</td>\n",
       "      <td>Provável</td>\n",
       "      <td>1</td>\n",
       "    </tr>\n",
       "  </tbody>\n",
       "</table>\n",
       "</div>"
      ],
      "text/plain": [
       "         id  rodada_id  pontos  preco  variacao  media apelido  ult_pontuacao  \\\n",
       "9895  84509         21     5.2   5.35      0.41   3.16   Valdo              0   \n",
       "9896  84509         22     0.0   4.57     -0.78   2.98   Valdo              0   \n",
       "9897  84509         23     0.0   4.52     -0.05   2.82   Valdo              0   \n",
       "9898  84509         24     0.2   4.49     -0.03   2.69   Valdo              0   \n",
       "9899  84509         25     0.0   4.49      0.00   2.69   Valdo              0   \n",
       "\n",
       "     scout posicao clube    status  em_casa  \n",
       "9895  None     zag   CEA  Provável        1  \n",
       "9896  None     zag   CEA  Provável        0  \n",
       "9897  None     zag   CEA  Provável        1  \n",
       "9898  None     zag   CEA  Provável        0  \n",
       "9899  None     zag   CEA  Provável        1  "
      ]
     },
     "execution_count": 76,
     "metadata": {},
     "output_type": "execute_result"
    }
   ],
   "source": [
    "# aplicação correta\n",
    "df_join.tail(5)"
   ]
  },
  {
   "cell_type": "code",
   "execution_count": 46,
   "metadata": {},
   "outputs": [],
   "source": [
    "# preeechendo dados da última rodada que vieram como None\n",
    "df_join.fillna('', inplace=True)"
   ]
  },
  {
   "cell_type": "code",
   "execution_count": 47,
   "metadata": {},
   "outputs": [
    {
     "ename": "TypeError",
     "evalue": "object of type 'int' has no len()",
     "output_type": "error",
     "traceback": [
      "\u001b[1;31m---------------------------------------------------------------------------\u001b[0m",
      "\u001b[1;31mTypeError\u001b[0m                                 Traceback (most recent call last)",
      "\u001b[1;32m<ipython-input-47-316008769bbb>\u001b[0m in \u001b[0;36m<module>\u001b[1;34m\u001b[0m\n\u001b[0;32m      2\u001b[0m \u001b[0mlista_scout\u001b[0m \u001b[1;33m=\u001b[0m \u001b[1;33m[\u001b[0m\u001b[1;33m]\u001b[0m\u001b[1;33m\u001b[0m\u001b[1;33m\u001b[0m\u001b[0m\n\u001b[0;32m      3\u001b[0m \u001b[1;32mfor\u001b[0m \u001b[0mi\u001b[0m \u001b[1;32min\u001b[0m \u001b[0mdf_join\u001b[0m\u001b[1;33m.\u001b[0m\u001b[0mscout\u001b[0m\u001b[1;33m:\u001b[0m\u001b[1;33m\u001b[0m\u001b[1;33m\u001b[0m\u001b[0m\n\u001b[1;32m----> 4\u001b[1;33m     \u001b[0mlista_scout\u001b[0m\u001b[1;33m.\u001b[0m\u001b[0mappend\u001b[0m\u001b[1;33m(\u001b[0m\u001b[0mlen\u001b[0m\u001b[1;33m(\u001b[0m\u001b[0mi\u001b[0m\u001b[1;33m)\u001b[0m\u001b[1;33m)\u001b[0m\u001b[1;33m\u001b[0m\u001b[1;33m\u001b[0m\u001b[0m\n\u001b[0m\u001b[0;32m      5\u001b[0m \u001b[0mdf_join\u001b[0m\u001b[1;33m[\u001b[0m\u001b[1;34m'tam_scout'\u001b[0m\u001b[1;33m]\u001b[0m \u001b[1;33m=\u001b[0m \u001b[0mlista_scout\u001b[0m\u001b[1;33m\u001b[0m\u001b[1;33m\u001b[0m\u001b[0m\n",
      "\u001b[1;31mTypeError\u001b[0m: object of type 'int' has no len()"
     ]
    }
   ],
   "source": [
    "# gerando uma coluna para tamanho do scout\n",
    "# não está entrando nas previsões\n",
    "lista_scout = []\n",
    "for i in df_join.scout:\n",
    "    lista_scout.append(len(i))\n",
    "df_join['tam_scout'] = lista_scout"
   ]
  },
  {
   "cell_type": "code",
   "execution_count": 95,
   "metadata": {},
   "outputs": [],
   "source": [
    "# analisando os jogadores por posição pela diferença \n",
    "zagueiros = df_join[df_join.posicao == 'zag']"
   ]
  },
  {
   "cell_type": "code",
   "execution_count": 96,
   "metadata": {},
   "outputs": [],
   "source": [
    "# verificando os melhores por rodada\n",
    "melhores_zagueiros = zagueiros.groupby(['rodada_id'], sort = True)['pontos'].max()\n"
   ]
  },
  {
   "cell_type": "code",
   "execution_count": 97,
   "metadata": {},
   "outputs": [],
   "source": [
    "melhores_zagueiros_tuplas = [(i, j) for i, j in zip(melhores_zagueiros.index, melhores_zagueiros.values)]"
   ]
  },
  {
   "cell_type": "code",
   "execution_count": 98,
   "metadata": {},
   "outputs": [
    {
     "data": {
      "text/plain": [
       "10.3"
      ]
     },
     "execution_count": 98,
     "metadata": {},
     "output_type": "execute_result"
    }
   ],
   "source": [
    "melhores_zagueiros_tuplas[0][1]"
   ]
  },
  {
   "cell_type": "code",
   "execution_count": 100,
   "metadata": {},
   "outputs": [
    {
     "name": "stdout",
     "output_type": "stream",
     "text": [
      "Na rodada 14 o melhor zagueiro foi ['Víctor Cuesta']\n",
      "Na rodada 15 o melhor zagueiro foi ['Leandro Castan']\n",
      "Na rodada 16 o melhor zagueiro foi ['Rafael Vaz']\n",
      "Na rodada 17 o melhor zagueiro foi ['Quintero']\n",
      "Na rodada 18 o melhor zagueiro foi ['Pablo Marí']\n",
      "Na rodada 19 o melhor zagueiro foi ['David Braz']\n",
      "Na rodada 20 o melhor zagueiro foi ['Rafael Vaz']\n",
      "Na rodada 21 o melhor zagueiro foi ['David Braz']\n",
      "Na rodada 22 o melhor zagueiro foi ['Fábio Sanches']\n",
      "Na rodada 23 o melhor zagueiro foi ['Pablo Marí']\n",
      "Na rodada 24 o melhor zagueiro foi ['Gil']\n",
      "Na rodada 25 o melhor zagueiro foi ['Dedé']\n"
     ]
    }
   ],
   "source": [
    "# melhores zagueiros por rodada\n",
    "for i in melhores_zagueiros_tuplas:\n",
    "    print(f\"Na rodada {i[0]} o melhor zagueiro foi {zagueiros[(zagueiros.rodada_id == i[0]) & (zagueiros.pontos == i[1])]['apelido'].values}\")"
   ]
  },
  {
   "cell_type": "code",
   "execution_count": 101,
   "metadata": {},
   "outputs": [
    {
     "data": {
      "text/html": [
       "<div>\n",
       "<style scoped>\n",
       "    .dataframe tbody tr th:only-of-type {\n",
       "        vertical-align: middle;\n",
       "    }\n",
       "\n",
       "    .dataframe tbody tr th {\n",
       "        vertical-align: top;\n",
       "    }\n",
       "\n",
       "    .dataframe thead th {\n",
       "        text-align: right;\n",
       "    }\n",
       "</style>\n",
       "<table border=\"1\" class=\"dataframe\">\n",
       "  <thead>\n",
       "    <tr style=\"text-align: right;\">\n",
       "      <th></th>\n",
       "      <th>id</th>\n",
       "      <th>rodada_id</th>\n",
       "      <th>pontos</th>\n",
       "      <th>preco</th>\n",
       "      <th>variacao</th>\n",
       "      <th>media</th>\n",
       "      <th>apelido</th>\n",
       "      <th>ult_pontuacao</th>\n",
       "      <th>scout</th>\n",
       "      <th>posicao</th>\n",
       "      <th>clube</th>\n",
       "      <th>status</th>\n",
       "      <th>em_casa</th>\n",
       "    </tr>\n",
       "  </thead>\n",
       "  <tbody>\n",
       "    <tr>\n",
       "      <th>36</th>\n",
       "      <td>37646</td>\n",
       "      <td>14</td>\n",
       "      <td>1.2</td>\n",
       "      <td>3.89</td>\n",
       "      <td>-0.43</td>\n",
       "      <td>2.18</td>\n",
       "      <td>Betão</td>\n",
       "      <td>0</td>\n",
       "      <td>None</td>\n",
       "      <td>zag</td>\n",
       "      <td>AVA</td>\n",
       "      <td>Provável</td>\n",
       "      <td>1</td>\n",
       "    </tr>\n",
       "    <tr>\n",
       "      <th>37</th>\n",
       "      <td>37646</td>\n",
       "      <td>15</td>\n",
       "      <td>5.2</td>\n",
       "      <td>4.69</td>\n",
       "      <td>0.80</td>\n",
       "      <td>2.40</td>\n",
       "      <td>Betão</td>\n",
       "      <td>0</td>\n",
       "      <td>None</td>\n",
       "      <td>zag</td>\n",
       "      <td>AVA</td>\n",
       "      <td>Provável</td>\n",
       "      <td>0</td>\n",
       "    </tr>\n",
       "    <tr>\n",
       "      <th>38</th>\n",
       "      <td>37646</td>\n",
       "      <td>16</td>\n",
       "      <td>-4.2</td>\n",
       "      <td>3.04</td>\n",
       "      <td>-1.65</td>\n",
       "      <td>1.96</td>\n",
       "      <td>Betão</td>\n",
       "      <td>0</td>\n",
       "      <td>None</td>\n",
       "      <td>zag</td>\n",
       "      <td>AVA</td>\n",
       "      <td>Provável</td>\n",
       "      <td>0</td>\n",
       "    </tr>\n",
       "    <tr>\n",
       "      <th>39</th>\n",
       "      <td>37646</td>\n",
       "      <td>17</td>\n",
       "      <td>0.0</td>\n",
       "      <td>3.04</td>\n",
       "      <td>0.00</td>\n",
       "      <td>1.96</td>\n",
       "      <td>Betão</td>\n",
       "      <td>0</td>\n",
       "      <td>None</td>\n",
       "      <td>zag</td>\n",
       "      <td>AVA</td>\n",
       "      <td>Provável</td>\n",
       "      <td>1</td>\n",
       "    </tr>\n",
       "    <tr>\n",
       "      <th>40</th>\n",
       "      <td>37646</td>\n",
       "      <td>18</td>\n",
       "      <td>0.0</td>\n",
       "      <td>3.04</td>\n",
       "      <td>0.00</td>\n",
       "      <td>1.96</td>\n",
       "      <td>Betão</td>\n",
       "      <td>0</td>\n",
       "      <td>None</td>\n",
       "      <td>zag</td>\n",
       "      <td>AVA</td>\n",
       "      <td>Provável</td>\n",
       "      <td>1</td>\n",
       "    </tr>\n",
       "  </tbody>\n",
       "</table>\n",
       "</div>"
      ],
      "text/plain": [
       "       id  rodada_id  pontos  preco  variacao  media apelido  ult_pontuacao  \\\n",
       "36  37646         14     1.2   3.89     -0.43   2.18   Betão              0   \n",
       "37  37646         15     5.2   4.69      0.80   2.40   Betão              0   \n",
       "38  37646         16    -4.2   3.04     -1.65   1.96   Betão              0   \n",
       "39  37646         17     0.0   3.04      0.00   1.96   Betão              0   \n",
       "40  37646         18     0.0   3.04      0.00   1.96   Betão              0   \n",
       "\n",
       "   scout posicao clube    status  em_casa  \n",
       "36  None     zag   AVA  Provável        1  \n",
       "37  None     zag   AVA  Provável        0  \n",
       "38  None     zag   AVA  Provável        0  \n",
       "39  None     zag   AVA  Provável        1  \n",
       "40  None     zag   AVA  Provável        1  "
      ]
     },
     "execution_count": 101,
     "metadata": {},
     "output_type": "execute_result"
    }
   ],
   "source": [
    "zagueiros.head()"
   ]
  },
  {
   "cell_type": "code",
   "execution_count": 102,
   "metadata": {},
   "outputs": [],
   "source": [
    "grafico = zagueiros.groupby('em_casa').pontos.sum()"
   ]
  },
  {
   "cell_type": "code",
   "execution_count": 104,
   "metadata": {},
   "outputs": [
    {
     "data": {
      "text/plain": [
       "em_casa\n",
       "0    729.0\n",
       "1    736.7\n",
       "Name: pontos, dtype: float64"
      ]
     },
     "execution_count": 104,
     "metadata": {},
     "output_type": "execute_result"
    }
   ],
   "source": [
    "grafico"
   ]
  },
  {
   "cell_type": "code",
   "execution_count": 105,
   "metadata": {},
   "outputs": [
    {
     "data": {
      "text/plain": [
       "<BarContainer object of 2 artists>"
      ]
     },
     "execution_count": 105,
     "metadata": {},
     "output_type": "execute_result"
    },
    {
     "data": {
      "image/png": "[encoded data removed]",
      "text/plain": [
       "<Figure size 432x288 with 1 Axes>"
      ]
     },
     "metadata": {
      "needs_background": "light"
     },
     "output_type": "display_data"
    }
   ],
   "source": [
    "# zagueiros fazem mais pontos dentro de casa\n",
    "plt.bar(grafico.index, grafico.values, data = zagueiros)"
   ]
  },
  {
   "cell_type": "code",
   "execution_count": 108,
   "metadata": {},
   "outputs": [],
   "source": [
    "# quero os três melhores da rodada para ficar compatível com minha $$$$\n",
    "zagueirosEmOrdem = zagueiros.sort_values(['rodada_id', 'pontos'], ascending=[True, False])\n",
    "zagueirosEmOrdem.head()\n",
    "\n",
    "tupla_pontos_apelido = [(i, j) for i, j in zip(zagueirosEmOrdem['pontos'].values, zagueirosEmOrdem['apelido'].values)]\n",
    "    "
   ]
  },
  {
   "cell_type": "code",
   "execution_count": 110,
   "metadata": {},
   "outputs": [
    {
     "data": {
      "text/plain": [
       "Text(0.5, 1.0, 'Pontuação dos zagueiros X Rodada')"
      ]
     },
     "execution_count": 110,
     "metadata": {},
     "output_type": "execute_result"
    },
    {
     "data": {
      "image/png": "[encoded data removed]",
      "text/plain": [
       "<Figure size 432x288 with 1 Axes>"
      ]
     },
     "metadata": {
      "needs_background": "light"
     },
     "output_type": "display_data"
    }
   ],
   "source": [
    "#Pontos dos zagueiros por rodada\n",
    "zagueiros_pontuadores = zagueirosEmOrdem.groupby('rodada_id').pontos.sum()\n",
    "plt.bar(zagueiros_pontuadores.index, zagueiros_pontuadores.values)\n",
    "plt.xlabel('Rodadas')\n",
    "plt.ylabel('Soma dos pontos')\n",
    "plt.title('Pontuação dos zagueiros X Rodada')"
   ]
  },
  {
   "cell_type": "code",
   "execution_count": 111,
   "metadata": {},
   "outputs": [
    {
     "data": {
      "text/plain": [
       "25    130\n",
       "24    130\n",
       "23    130\n",
       "22    130\n",
       "21    130\n",
       "20    130\n",
       "19    130\n",
       "18    130\n",
       "17    130\n",
       "16    130\n",
       "15    130\n",
       "14    130\n",
       "Name: rodada_id, dtype: int64"
      ]
     },
     "execution_count": 111,
     "metadata": {},
     "output_type": "execute_result"
    }
   ],
   "source": [
    "zagueirosEmOrdem.rodada_id.value_counts()"
   ]
  },
  {
   "cell_type": "code",
   "execution_count": 183,
   "metadata": {},
   "outputs": [],
   "source": [
    "# com essa biblioteca consigo pegar os tre melhores por setor\n",
    "import heapq"
   ]
  },
  {
   "cell_type": "code",
   "execution_count": 185,
   "metadata": {},
   "outputs": [
    {
     "name": "stdout",
     "output_type": "stream",
     "text": [
      "1528\n"
     ]
    }
   ],
   "source": [
    "# refatorado aqui\n",
    "\n",
    "rodadas = []\n",
    "for x in range(14, 26):\n",
    "    rodadas.append([j for i, j in zip(zagueirosEmOrdem.rodada_id, zagueirosEmOrdem.pontos) if i == x])\n",
    "\n",
    "\n",
    "colunaTitular = []\n",
    "\n",
    "for rodada in rodadas:\n",
    "    for i in rodada:\n",
    "        if i in heapq.nlargest(3, rodada):\n",
    "            colunaTitular.append(1)\n",
    "        else:\n",
    "            colunaTitular.append(0)\n",
    "\n",
    "        \n",
    "print(len(colunaTitular))\n"
   ]
  },
  {
   "cell_type": "code",
   "execution_count": 175,
   "metadata": {},
   "outputs": [],
   "source": [
    "zagueirosEmOrdem['titular'] = colunaTitular"
   ]
  },
  {
   "cell_type": "code",
   "execution_count": 176,
   "metadata": {},
   "outputs": [
    {
     "ename": "KeyError",
     "evalue": "\"['scout'] not found in axis\"",
     "output_type": "error",
     "traceback": [
      "\u001b[1;31m---------------------------------------------------------------------------\u001b[0m",
      "\u001b[1;31mKeyError\u001b[0m                                  Traceback (most recent call last)",
      "\u001b[1;32m<ipython-input-176-437c6391d9db>\u001b[0m in \u001b[0;36m<module>\u001b[1;34m\u001b[0m\n\u001b[1;32m----> 1\u001b[1;33m \u001b[0mzagueirosEmOrdem\u001b[0m\u001b[1;33m.\u001b[0m\u001b[0mdrop\u001b[0m\u001b[1;33m(\u001b[0m\u001b[1;34m'scout'\u001b[0m\u001b[1;33m,\u001b[0m \u001b[0maxis\u001b[0m \u001b[1;33m=\u001b[0m \u001b[1;36m1\u001b[0m\u001b[1;33m,\u001b[0m \u001b[0minplace\u001b[0m\u001b[1;33m=\u001b[0m\u001b[1;32mTrue\u001b[0m\u001b[1;33m)\u001b[0m\u001b[1;33m\u001b[0m\u001b[1;33m\u001b[0m\u001b[0m\n\u001b[0m",
      "\u001b[1;32m~\\AppData\\Local\\Continuum\\anaconda3\\lib\\site-packages\\pandas\\core\\frame.py\u001b[0m in \u001b[0;36mdrop\u001b[1;34m(self, labels, axis, index, columns, level, inplace, errors)\u001b[0m\n\u001b[0;32m   3695\u001b[0m                                            \u001b[0mindex\u001b[0m\u001b[1;33m=\u001b[0m\u001b[0mindex\u001b[0m\u001b[1;33m,\u001b[0m \u001b[0mcolumns\u001b[0m\u001b[1;33m=\u001b[0m\u001b[0mcolumns\u001b[0m\u001b[1;33m,\u001b[0m\u001b[1;33m\u001b[0m\u001b[1;33m\u001b[0m\u001b[0m\n\u001b[0;32m   3696\u001b[0m                                            \u001b[0mlevel\u001b[0m\u001b[1;33m=\u001b[0m\u001b[0mlevel\u001b[0m\u001b[1;33m,\u001b[0m \u001b[0minplace\u001b[0m\u001b[1;33m=\u001b[0m\u001b[0minplace\u001b[0m\u001b[1;33m,\u001b[0m\u001b[1;33m\u001b[0m\u001b[1;33m\u001b[0m\u001b[0m\n\u001b[1;32m-> 3697\u001b[1;33m                                            errors=errors)\n\u001b[0m\u001b[0;32m   3698\u001b[0m \u001b[1;33m\u001b[0m\u001b[0m\n\u001b[0;32m   3699\u001b[0m     @rewrite_axis_style_signature('mapper', [('copy', True),\n",
      "\u001b[1;32m~\\AppData\\Local\\Continuum\\anaconda3\\lib\\site-packages\\pandas\\core\\generic.py\u001b[0m in \u001b[0;36mdrop\u001b[1;34m(self, labels, axis, index, columns, level, inplace, errors)\u001b[0m\n\u001b[0;32m   3109\u001b[0m         \u001b[1;32mfor\u001b[0m \u001b[0maxis\u001b[0m\u001b[1;33m,\u001b[0m \u001b[0mlabels\u001b[0m \u001b[1;32min\u001b[0m \u001b[0maxes\u001b[0m\u001b[1;33m.\u001b[0m\u001b[0mitems\u001b[0m\u001b[1;33m(\u001b[0m\u001b[1;33m)\u001b[0m\u001b[1;33m:\u001b[0m\u001b[1;33m\u001b[0m\u001b[1;33m\u001b[0m\u001b[0m\n\u001b[0;32m   3110\u001b[0m             \u001b[1;32mif\u001b[0m \u001b[0mlabels\u001b[0m \u001b[1;32mis\u001b[0m \u001b[1;32mnot\u001b[0m \u001b[1;32mNone\u001b[0m\u001b[1;33m:\u001b[0m\u001b[1;33m\u001b[0m\u001b[1;33m\u001b[0m\u001b[0m\n\u001b[1;32m-> 3111\u001b[1;33m                 \u001b[0mobj\u001b[0m \u001b[1;33m=\u001b[0m \u001b[0mobj\u001b[0m\u001b[1;33m.\u001b[0m\u001b[0m_drop_axis\u001b[0m\u001b[1;33m(\u001b[0m\u001b[0mlabels\u001b[0m\u001b[1;33m,\u001b[0m \u001b[0maxis\u001b[0m\u001b[1;33m,\u001b[0m \u001b[0mlevel\u001b[0m\u001b[1;33m=\u001b[0m\u001b[0mlevel\u001b[0m\u001b[1;33m,\u001b[0m \u001b[0merrors\u001b[0m\u001b[1;33m=\u001b[0m\u001b[0merrors\u001b[0m\u001b[1;33m)\u001b[0m\u001b[1;33m\u001b[0m\u001b[1;33m\u001b[0m\u001b[0m\n\u001b[0m\u001b[0;32m   3112\u001b[0m \u001b[1;33m\u001b[0m\u001b[0m\n\u001b[0;32m   3113\u001b[0m         \u001b[1;32mif\u001b[0m \u001b[0minplace\u001b[0m\u001b[1;33m:\u001b[0m\u001b[1;33m\u001b[0m\u001b[1;33m\u001b[0m\u001b[0m\n",
      "\u001b[1;32m~\\AppData\\Local\\Continuum\\anaconda3\\lib\\site-packages\\pandas\\core\\generic.py\u001b[0m in \u001b[0;36m_drop_axis\u001b[1;34m(self, labels, axis, level, errors)\u001b[0m\n\u001b[0;32m   3141\u001b[0m                 \u001b[0mnew_axis\u001b[0m \u001b[1;33m=\u001b[0m \u001b[0maxis\u001b[0m\u001b[1;33m.\u001b[0m\u001b[0mdrop\u001b[0m\u001b[1;33m(\u001b[0m\u001b[0mlabels\u001b[0m\u001b[1;33m,\u001b[0m \u001b[0mlevel\u001b[0m\u001b[1;33m=\u001b[0m\u001b[0mlevel\u001b[0m\u001b[1;33m,\u001b[0m \u001b[0merrors\u001b[0m\u001b[1;33m=\u001b[0m\u001b[0merrors\u001b[0m\u001b[1;33m)\u001b[0m\u001b[1;33m\u001b[0m\u001b[1;33m\u001b[0m\u001b[0m\n\u001b[0;32m   3142\u001b[0m             \u001b[1;32melse\u001b[0m\u001b[1;33m:\u001b[0m\u001b[1;33m\u001b[0m\u001b[1;33m\u001b[0m\u001b[0m\n\u001b[1;32m-> 3143\u001b[1;33m                 \u001b[0mnew_axis\u001b[0m \u001b[1;33m=\u001b[0m \u001b[0maxis\u001b[0m\u001b[1;33m.\u001b[0m\u001b[0mdrop\u001b[0m\u001b[1;33m(\u001b[0m\u001b[0mlabels\u001b[0m\u001b[1;33m,\u001b[0m \u001b[0merrors\u001b[0m\u001b[1;33m=\u001b[0m\u001b[0merrors\u001b[0m\u001b[1;33m)\u001b[0m\u001b[1;33m\u001b[0m\u001b[1;33m\u001b[0m\u001b[0m\n\u001b[0m\u001b[0;32m   3144\u001b[0m             \u001b[0mresult\u001b[0m \u001b[1;33m=\u001b[0m \u001b[0mself\u001b[0m\u001b[1;33m.\u001b[0m\u001b[0mreindex\u001b[0m\u001b[1;33m(\u001b[0m\u001b[1;33m**\u001b[0m\u001b[1;33m{\u001b[0m\u001b[0maxis_name\u001b[0m\u001b[1;33m:\u001b[0m \u001b[0mnew_axis\u001b[0m\u001b[1;33m}\u001b[0m\u001b[1;33m)\u001b[0m\u001b[1;33m\u001b[0m\u001b[1;33m\u001b[0m\u001b[0m\n\u001b[0;32m   3145\u001b[0m \u001b[1;33m\u001b[0m\u001b[0m\n",
      "\u001b[1;32m~\\AppData\\Local\\Continuum\\anaconda3\\lib\\site-packages\\pandas\\core\\indexes\\base.py\u001b[0m in \u001b[0;36mdrop\u001b[1;34m(self, labels, errors)\u001b[0m\n\u001b[0;32m   4402\u001b[0m             \u001b[1;32mif\u001b[0m \u001b[0merrors\u001b[0m \u001b[1;33m!=\u001b[0m \u001b[1;34m'ignore'\u001b[0m\u001b[1;33m:\u001b[0m\u001b[1;33m\u001b[0m\u001b[1;33m\u001b[0m\u001b[0m\n\u001b[0;32m   4403\u001b[0m                 raise KeyError(\n\u001b[1;32m-> 4404\u001b[1;33m                     '{} not found in axis'.format(labels[mask]))\n\u001b[0m\u001b[0;32m   4405\u001b[0m             \u001b[0mindexer\u001b[0m \u001b[1;33m=\u001b[0m \u001b[0mindexer\u001b[0m\u001b[1;33m[\u001b[0m\u001b[1;33m~\u001b[0m\u001b[0mmask\u001b[0m\u001b[1;33m]\u001b[0m\u001b[1;33m\u001b[0m\u001b[1;33m\u001b[0m\u001b[0m\n\u001b[0;32m   4406\u001b[0m         \u001b[1;32mreturn\u001b[0m \u001b[0mself\u001b[0m\u001b[1;33m.\u001b[0m\u001b[0mdelete\u001b[0m\u001b[1;33m(\u001b[0m\u001b[0mindexer\u001b[0m\u001b[1;33m)\u001b[0m\u001b[1;33m\u001b[0m\u001b[1;33m\u001b[0m\u001b[0m\n",
      "\u001b[1;31mKeyError\u001b[0m: \"['scout'] not found in axis\""
     ]
    }
   ],
   "source": [
    "zagueirosEmOrdem.drop('scout', axis = 1, inplace=True)"
   ]
  },
  {
   "cell_type": "code",
   "execution_count": 177,
   "metadata": {},
   "outputs": [],
   "source": [
    "zagueirosEmOrdem.dropna(axis = 0, how = 'any', inplace = True)"
   ]
  },
  {
   "cell_type": "code",
   "execution_count": 178,
   "metadata": {},
   "outputs": [],
   "source": [
    "# Setando os atributos previsores\n",
    "# considerando: O preço, a média e se joga em casa\n",
    "X = zagueirosEmOrdem.iloc[:,[3, 5, 11]].values"
   ]
  },
  {
   "cell_type": "code",
   "execution_count": 179,
   "metadata": {},
   "outputs": [
    {
     "data": {
      "text/plain": [
       "(1528, 13)"
      ]
     },
     "execution_count": 179,
     "metadata": {},
     "output_type": "execute_result"
    }
   ],
   "source": [
    "zagueirosEmOrdem.shape"
   ]
  },
  {
   "cell_type": "code",
   "execution_count": 180,
   "metadata": {},
   "outputs": [],
   "source": [
    "y = zagueirosEmOrdem.iloc[:, 12].values"
   ]
  },
  {
   "cell_type": "code",
   "execution_count": 181,
   "metadata": {},
   "outputs": [],
   "source": [
    "from sklearn.model_selection import train_test_split\n",
    "from sklearn.metrics import accuracy_score\n",
    "from sklearn.ensemble import RandomForestClassifier"
   ]
  },
  {
   "cell_type": "code",
   "execution_count": 182,
   "metadata": {},
   "outputs": [
    {
     "name": "stdout",
     "output_type": "stream",
     "text": [
      "0.9735294117647058\n"
     ]
    }
   ],
   "source": [
    "# Rodando o modelo RANDONFOREST em 10 ciclos com 100 arvores\n",
    "resultados = []\n",
    "for i in range(0, 10):\n",
    "    X_train, X_test, y_train, y_test = train_test_split(X, y, test_size = 0.4, random_state = i)\n",
    "    modelo = RandomForestClassifier(n_estimators=100, n_jobs=1)\n",
    "    modelo.fit(X_train, y_train)\n",
    "    predicao = modelo.predict(X_test)\n",
    "    resultados.append(accuracy_score(y_test, predicao))\n",
    "print(np.mean(resultados))"
   ]
  },
  {
   "cell_type": "code",
   "execution_count": null,
   "metadata": {},
   "outputs": [],
   "source": []
  },
  {
   "cell_type": "code",
   "execution_count": null,
   "metadata": {},
   "outputs": [],
   "source": []
  },
  {
   "cell_type": "code",
   "execution_count": null,
   "metadata": {},
   "outputs": [],
   "source": []
  }
 ],
 "metadata": {
  "kernelspec": {
   "display_name": "Python 3",
   "language": "python",
   "name": "python3"
  },
  "language_info": {
   "codemirror_mode": {
    "name": "ipython",
    "version": 3
   },
   "file_extension": ".py",
   "mimetype": "text/x-python",
   "name": "python",
   "nbconvert_exporter": "python",
   "pygments_lexer": "ipython3",
   "version": "3.7.1"
  }
 },
 "nbformat": 4,
 "nbformat_minor": 4
}
